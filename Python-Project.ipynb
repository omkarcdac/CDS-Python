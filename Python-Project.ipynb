{
 "cells": [
  {
   "cell_type": "code",
   "execution_count": null,
   "id": "f141daba-a4c1-4db0-ae65-f79af49351dc",
   "metadata": {},
   "outputs": [],
   "source": [
    "# restaurant project in python"
   ]
  },
  {
   "cell_type": "code",
   "execution_count": 5,
   "id": "6a389dc1-d603-4099-b4eb-1a2d0100845e",
   "metadata": {},
   "outputs": [
    {
     "name": "stdout",
     "output_type": "stream",
     "text": [
      "welcome to omkar restaurent\n",
      "pizza: 80\n",
      "burger: 50\n",
      "cold-coffee: 70\n",
      "salad: 60\n",
      "pasta: 50\n"
     ]
    },
    {
     "name": "stdin",
     "output_type": "stream",
     "text": [
      "Select the item you want to order and add quantity: \"pizza\",4\n"
     ]
    },
    {
     "name": "stdout",
     "output_type": "stream",
     "text": [
      "You item has been added in your order\n"
     ]
    },
    {
     "name": "stdin",
     "output_type": "stream",
     "text": [
      "You want to add another item? (Yes/No) yes\n",
      "Select the item you want to order and add quantity: \"burger\",4\n"
     ]
    },
    {
     "name": "stdout",
     "output_type": "stream",
     "text": [
      "You item has been added in your order\n"
     ]
    },
    {
     "name": "stdin",
     "output_type": "stream",
     "text": [
      "You want to add another item? (Yes/No) g\n"
     ]
    },
    {
     "name": "stdout",
     "output_type": "stream",
     "text": [
      "your total order price = 520Rs\n",
      "thank you visit omkar restaurant\n"
     ]
    }
   ],
   "source": [
    "## pthon project ---- orders in restaurant\n",
    "menu = {\n",
    "    'pizza':80,\n",
    "    'burger':50,\n",
    "    'cold-coffee':70,\n",
    "    'salad':60,\n",
    "    'pasta':50\n",
    "}\n",
    "print(\"welcome to omkar restaurent\")\n",
    "print(\"pizza: 80\\nburger: 50\\ncold-coffee: 70\\nsalad: 60\\npasta: 50\")\n",
    "\n",
    "total_price = 0\n",
    "while True:\n",
    "    item_1,count=eval(input(\"Select the item you want to order and add quantity:\"))\n",
    "    if item_1 in menu:\n",
    "        total_price += (menu[item_1]*count)\n",
    "        print(f\"You item has been added in your order\")\n",
    "    else:\n",
    "        print(\" item {iis not available in our restaurant...\")\n",
    "        \n",
    "    another_order=input(\"You want to add another item? (Yes/No)\")\n",
    "    if another_order.lower() != 'yes':\n",
    "        break\n",
    "print(f\"your total order price = {total_price}Rs\")\n",
    "print(\"thank you visit omkar restaurant\")"
   ]
  },
  {
   "cell_type": "code",
   "execution_count": null,
   "id": "3f123d1f-44f8-408d-8f8b-f6386a71ae61",
   "metadata": {},
   "outputs": [],
   "source": []
  }
 ],
 "metadata": {
  "kernelspec": {
   "display_name": "Python [conda env:base] *",
   "language": "python",
   "name": "conda-base-py"
  },
  "language_info": {
   "codemirror_mode": {
    "name": "ipython",
    "version": 3
   },
   "file_extension": ".py",
   "mimetype": "text/x-python",
   "name": "python",
   "nbconvert_exporter": "python",
   "pygments_lexer": "ipython3",
   "version": "3.12.7"
  }
 },
 "nbformat": 4,
 "nbformat_minor": 5
}
